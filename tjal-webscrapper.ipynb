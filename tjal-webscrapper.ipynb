{
 "cells": [
  {
   "cell_type": "code",
   "execution_count": null,
   "id": "61340555",
   "metadata": {},
   "outputs": [],
   "source": [
    "!pip install selenium"
   ]
  },
  {
   "cell_type": "code",
   "execution_count": null,
   "id": "93e8e862",
   "metadata": {},
   "outputs": [],
   "source": [
    "from selenium import webdriver\n",
    "from selenium.webdriver.chrome.service import Service\n",
    "from selenium.webdriver.common.by import By\n",
    "\n",
    "path_chromedriver='C:/Projetos/env/chromedriver/chromedriver.exe'\n",
    "s = Service(path_chromedriver)\n",
    "\n",
    "driver = webdriver.Chrome(service=s)"
   ]
  }
 ],
 "metadata": {
  "kernelspec": {
   "display_name": "tjal-webscrapper",
   "language": "python",
   "name": "tjal-webscrapper"
  },
  "language_info": {
   "codemirror_mode": {
    "name": "ipython",
    "version": 3
   },
   "file_extension": ".py",
   "mimetype": "text/x-python",
   "name": "python",
   "nbconvert_exporter": "python",
   "pygments_lexer": "ipython3",
   "version": "3.10.5"
  }
 },
 "nbformat": 4,
 "nbformat_minor": 5
}
